{
 "cells": [
  {
   "cell_type": "markdown",
   "metadata": {},
   "source": [
    "# Part 1"
   ]
  },
  {
   "cell_type": "markdown",
   "metadata": {
    "id": "9qndwAG5UAKi"
   },
   "source": [
    "作業目標<br>\n",
    "在一個陣列中放入多屬性陣列，進一步對陣列做運算<br>\n",
    "作業重點<br>\n",
    "在建立結構化陣列前需要先設定屬性，在做運算時須注意資料屬性"
   ]
  },
  {
   "cell_type": "markdown",
   "metadata": {
    "id": "48DhzHvBUB2c"
   },
   "source": [
    "題目:<br>\n",
    "name_list = ['小明','小華','小菁','小美','小張','John','Mark','Tom']<br>\n",
    "sex_list = ['boy','boy','girl','girl','boy','boy','boy','boy']<br>\n",
    "weight_list = [67.5,75.3,50.1,45.5,80.8,90.4,78.4,70.7]<br>\n",
    "rank_list = [8,1,5,4,7,6,2,3]<br>\n",
    "myopia_list = [True,True,False,False,True,True,False,False]<br>\n",
    "1. 將上列list依照['name', 'sex', 'weight', 'rank', 'myopia']順序擺入array，並且資料型態順序擺入[Unicode,Unicode,float,int,boolean]<br>\n",
    "2. 呈上題，將array中體重(weight)數據集取出算出全部平均體重\n",
    "3. 呈上題，進一步算出男生(sex欄位是boy)平均體重、女生(sex欄位是girl)平均體重\n"
   ]
  },
  {
   "cell_type": "code",
   "execution_count": 1,
   "metadata": {
    "id": "5n4rAx-9VgVr"
   },
   "outputs": [],
   "source": [
    "import numpy as np "
   ]
  },
  {
   "cell_type": "code",
   "execution_count": 2,
   "metadata": {
    "id": "Vl-wSYQdUBcw"
   },
   "outputs": [],
   "source": [
    "name_list = ['小明','小華','小菁','小美','小張','John','Mark','Tom']\n",
    "sex_list = ['boy','boy','girl','girl','boy','boy','boy','boy']\n",
    "weight_list = [67.5,75.3,50.1,45.5,80.8,90.4,78.4,70.7]\n",
    "rank_list = [8,1,5,4,7,6,2,3]\n",
    "myopia_list = [True,True,False,False,True,True,False,False]"
   ]
  },
  {
   "cell_type": "code",
   "execution_count": null,
   "metadata": {
    "id": "ElavkYgwVftG"
   },
   "outputs": [],
   "source": [
    "#1. 將上列list依照['name', 'sex', 'weight', 'rank', 'myopia']順序擺入array，並且資料型態順序擺入[Unicode,Unicode,float,int,boolean]"
   ]
  },
  {
   "cell_type": "code",
   "execution_count": 21,
   "metadata": {},
   "outputs": [],
   "source": [
    "dt = np.dtype({'names':('name', 'sex', 'weight', 'rank',\"myopia\"), 'formats':('U4', 'U4', np.float32,np.int32, '?')})"
   ]
  },
  {
   "cell_type": "code",
   "execution_count": 22,
   "metadata": {},
   "outputs": [],
   "source": [
    "stats = np.zeros(8, dtype = dt)"
   ]
  },
  {
   "cell_type": "code",
   "execution_count": 23,
   "metadata": {},
   "outputs": [
    {
     "data": {
      "text/plain": [
       "array([('小明', 'boy', 67.5, 8,  True), ('小華', 'boy', 75.3, 1,  True),\n",
       "       ('小菁', 'girl', 50.1, 5, False), ('小美', 'girl', 45.5, 4, False),\n",
       "       ('小張', 'boy', 80.8, 7,  True), ('John', 'boy', 90.4, 6,  True),\n",
       "       ('Mark', 'boy', 78.4, 2, False), ('Tom', 'boy', 70.7, 3, False)],\n",
       "      dtype=[('name', '<U4'), ('sex', '<U4'), ('weight', '<f4'), ('rank', '<i4'), ('myopia', '?')])"
      ]
     },
     "execution_count": 23,
     "metadata": {},
     "output_type": "execute_result"
    }
   ],
   "source": [
    "stats['name'] = name_list\n",
    "stats['sex'] = sex_list\n",
    "stats['weight'] = weight_list\n",
    "stats['rank'] = rank_list\n",
    "stats['myopia'] = myopia_list\n",
    "stats"
   ]
  },
  {
   "cell_type": "code",
   "execution_count": null,
   "metadata": {
    "id": "N-xffNSVWbP1"
   },
   "outputs": [],
   "source": [
    "#2. 呈上題，將array中體重(weight)數據集取出算出全部平均體重"
   ]
  },
  {
   "cell_type": "code",
   "execution_count": 27,
   "metadata": {},
   "outputs": [
    {
     "data": {
      "text/plain": [
       "69.83750057220459"
      ]
     },
     "execution_count": 27,
     "metadata": {},
     "output_type": "execute_result"
    }
   ],
   "source": [
    "sum(stats['weight'])/len(stats['weight'])"
   ]
  },
  {
   "cell_type": "code",
   "execution_count": null,
   "metadata": {
    "id": "_LhLg8RiWwEm"
   },
   "outputs": [],
   "source": [
    "#3. 呈上題，進一步算出男生(sex欄位是boy)平均體重"
   ]
  },
  {
   "cell_type": "code",
   "execution_count": 32,
   "metadata": {},
   "outputs": [
    {
     "data": {
      "text/plain": [
       "77.18333435058594"
      ]
     },
     "execution_count": 32,
     "metadata": {},
     "output_type": "execute_result"
    }
   ],
   "source": [
    "sum(stats[stats[\"sex\"]== 'boy']['weight'])/len(stats[stats[\"sex\"]== 'boy'])"
   ]
  },
  {
   "cell_type": "code",
   "execution_count": null,
   "metadata": {
    "id": "f_J05IPxX6fg"
   },
   "outputs": [],
   "source": [
    "#3. 呈上題，進一步算出女生(sex欄位是girl)平均體重"
   ]
  },
  {
   "cell_type": "code",
   "execution_count": 33,
   "metadata": {},
   "outputs": [
    {
     "data": {
      "text/plain": [
       "47.79999923706055"
      ]
     },
     "execution_count": 33,
     "metadata": {},
     "output_type": "execute_result"
    }
   ],
   "source": [
    "sum(stats[stats[\"sex\"]== 'girl']['weight'])/len(stats[stats[\"sex\"]== 'girl'])"
   ]
  },
  {
   "cell_type": "markdown",
   "metadata": {},
   "source": [
    "# Part 2"
   ]
  },
  {
   "cell_type": "markdown",
   "metadata": {
    "colab_type": "text",
    "id": "P6xk2_jLsvFF"
   },
   "source": [
    "# [作業目標]\n",
    "\n",
    "1. [簡答題] 請比較 np.zeros 和 np.empty 產生出來的陣列有何差異？為什麼要設計兩種方法？\n",
    "\n",
    "```\n",
    "print(np.zeros((2, 3)))\n",
    "print(np.empty((2, 3)))\n",
    "```\n",
    "\n",
    "2. 在不用「整數亂數方法」的限制下，如何將包含小數的轉換整數？請將給定的 a 陣列當中的元素變成去掉小數變成整數。\n",
    "3. 承上題，怎樣可以限制整數的範圍介於 m - n 之間？請將給定的 a 陣列當中的元素的範圍調整成 m - n 之間。"
   ]
  },
  {
   "cell_type": "markdown",
   "metadata": {
    "colab_type": "text",
    "id": "uXGll28asvFS"
   },
   "source": [
    "# 作業 "
   ]
  },
  {
   "cell_type": "markdown",
   "metadata": {},
   "source": [
    "### 1. [簡答題] 請比較 np.zeros 和 np.empty 產生出來的陣列有何差異？為什麼要設計兩種方法？\n",
    "\n",
    "```\n",
    "print(np.zeros((2, 3)))\n",
    "print(np.empty((2, 3)))\n",
    "```\n"
   ]
  },
  {
   "cell_type": "markdown",
   "metadata": {
    "colab": {},
    "colab_type": "code",
    "id": "5QrYoyNWsvFS"
   },
   "source": [
    "### Ans:\n",
    "np.zeros 會自動生成一個所有元素原始值皆為0的矩陣。<br>\n",
    "np.empty 則是會根據記憶體狀態隨機生成個元素的狀態<br>\n",
    "以使用情境作分別的話，如果重視的是 **矩陣的形狀**而原始值並不重要的狀況下，np.empty會稍快<br>\n",
    "但是若除了形狀以外也重視原始值，也就是說若要皆為0的話，np.zeros無論是在輸入/設定上或是運行速度都會勝過np.empty<br>\n",
    "source1: https://stackoverflow.com/questions/26213199/np-fullsize-0-vs-np-zerossize-vs-np-empty <br>\n",
    "source2: https://datascience.stackexchange.com/questions/52190/what-is-difference-between-np-zeros-and-np-empty <br>"
   ]
  },
  {
   "cell_type": "markdown",
   "metadata": {},
   "source": [
    "### 2. 在不用「整數亂數方法」的限制下，如何將包含小數的轉換整數？請將給定的 a 陣列當中的元素變成去掉小數變成整數。\n"
   ]
  },
  {
   "cell_type": "code",
   "execution_count": 34,
   "metadata": {},
   "outputs": [],
   "source": [
    "# 記得先 Import 正確的套件\n",
    "\n",
    "'''\n",
    "Your Code\n",
    "'''\n",
    "import numpy as np"
   ]
  },
  {
   "cell_type": "code",
   "execution_count": 40,
   "metadata": {
    "colab": {},
    "colab_type": "code",
    "id": "e1gVI0tvsvFY"
   },
   "outputs": [
    {
     "name": "stdout",
     "output_type": "stream",
     "text": [
      "before change:  [[0.98594467 0.37240436 0.46167594]\n",
      " [0.13933501 0.81780308 0.51246308]]\n",
      "after change:  [[0 0 0]\n",
      " [0 0 0]]\n"
     ]
    }
   ],
   "source": [
    "# 參考解答\n",
    "\n",
    "a = np.random.rand(2, 3)\n",
    "\n",
    "'''\n",
    "Your Code\n",
    "'''\n",
    "# dt2 = dtype(int)\n",
    "print(\"before change: \",a)\n",
    "print(\"after change: \", a.astype(int) )\n"
   ]
  },
  {
   "cell_type": "markdown",
   "metadata": {},
   "source": [
    "### 3. 承上題，怎樣可以限制整數的範圍介於 m - n 之間？請將給定的 a 陣列當中的元素的範圍調整成 m - n 之間。\n"
   ]
  },
  {
   "cell_type": "code",
   "execution_count": 47,
   "metadata": {},
   "outputs": [
    {
     "data": {
      "text/plain": [
       "array([[20., 24., 28.],\n",
       "       [32., 36., 40.]])"
      ]
     },
     "execution_count": 47,
     "metadata": {},
     "output_type": "execute_result"
    }
   ],
   "source": [
    "m = 20\n",
    "n = 40\n",
    "\n",
    "'''\n",
    "Your Code\n",
    "'''\n",
    "np.reshape(np.linspace(20,40,6),(2,3))"
   ]
  },
  {
   "cell_type": "code",
   "execution_count": null,
   "metadata": {},
   "outputs": [],
   "source": []
  },
  {
   "cell_type": "code",
   "execution_count": null,
   "metadata": {},
   "outputs": [],
   "source": []
  },
  {
   "cell_type": "code",
   "execution_count": null,
   "metadata": {},
   "outputs": [],
   "source": []
  }
 ],
 "metadata": {
  "kernelspec": {
   "display_name": "Python 3",
   "language": "python",
   "name": "python3"
  },
  "language_info": {
   "codemirror_mode": {
    "name": "ipython",
    "version": 3
   },
   "file_extension": ".py",
   "mimetype": "text/x-python",
   "name": "python",
   "nbconvert_exporter": "python",
   "pygments_lexer": "ipython3",
   "version": "3.8.5"
  }
 },
 "nbformat": 4,
 "nbformat_minor": 4
}
