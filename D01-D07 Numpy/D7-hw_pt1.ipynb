{
 "cells": [
  {
   "cell_type": "markdown",
   "metadata": {
    "colab_type": "text",
    "id": "P6xk2_jLsvFF"
   },
   "source": [
    "# [作業目標]\n",
    "\n",
    "1. 請比較對一個 100 x 100 * 100 的陣列，使用不同方法對每一個元素 +1 的時間比較。\n",
    "\n",
    "2. 如何從一個陣列中，找出出現頻率最高的數值與位置？\n",
    "\n",
    "3. 如何利用 list(...) 實現 a.tolist() 的效果？試著用程式實作。\n"
   ]
  },
  {
   "cell_type": "markdown",
   "metadata": {
    "colab_type": "text",
    "id": "uXGll28asvFS"
   },
   "source": [
    "# 作業 "
   ]
  },
  {
   "cell_type": "markdown",
   "metadata": {},
   "source": [
    "### 1. 請比較對一個 1000 x 100 x 100 的陣列，使用不同方法對每一個元素 +1 的時間比較。\n",
    "\n",
    "\n"
   ]
  },
  {
   "cell_type": "code",
   "execution_count": 1,
   "metadata": {},
   "outputs": [],
   "source": [
    "# 記得先 Import 正確的套件\n",
    "\n",
    "import numpy as np\n",
    "import random"
   ]
  },
  {
   "cell_type": "code",
   "execution_count": 2,
   "metadata": {
    "colab": {},
    "colab_type": "code",
    "id": "5QrYoyNWsvFS"
   },
   "outputs": [
    {
     "data": {
      "text/plain": [
       "array([[[7, 9, 2, ..., 9, 9, 1],\n",
       "        [2, 0, 1, ..., 1, 4, 5],\n",
       "        [6, 2, 8, ..., 1, 3, 1],\n",
       "        ...,\n",
       "        [8, 7, 5, ..., 4, 9, 9],\n",
       "        [3, 6, 5, ..., 9, 9, 5],\n",
       "        [0, 0, 2, ..., 5, 9, 0]],\n",
       "\n",
       "       [[3, 2, 8, ..., 8, 8, 3],\n",
       "        [4, 5, 6, ..., 0, 7, 5],\n",
       "        [4, 3, 7, ..., 7, 8, 2],\n",
       "        ...,\n",
       "        [7, 7, 6, ..., 8, 3, 6],\n",
       "        [1, 0, 6, ..., 4, 6, 9],\n",
       "        [1, 3, 7, ..., 9, 0, 4]],\n",
       "\n",
       "       [[8, 8, 3, ..., 6, 2, 4],\n",
       "        [4, 0, 1, ..., 5, 2, 2],\n",
       "        [3, 1, 8, ..., 4, 9, 8],\n",
       "        ...,\n",
       "        [3, 0, 1, ..., 6, 3, 0],\n",
       "        [5, 3, 8, ..., 0, 5, 0],\n",
       "        [0, 7, 8, ..., 2, 8, 6]],\n",
       "\n",
       "       ...,\n",
       "\n",
       "       [[2, 0, 0, ..., 0, 3, 6],\n",
       "        [7, 6, 6, ..., 4, 8, 6],\n",
       "        [9, 6, 7, ..., 1, 0, 7],\n",
       "        ...,\n",
       "        [4, 1, 8, ..., 5, 9, 6],\n",
       "        [7, 4, 9, ..., 5, 0, 5],\n",
       "        [3, 7, 0, ..., 0, 6, 2]],\n",
       "\n",
       "       [[7, 6, 0, ..., 6, 3, 6],\n",
       "        [0, 6, 1, ..., 8, 8, 2],\n",
       "        [7, 1, 2, ..., 5, 9, 1],\n",
       "        ...,\n",
       "        [7, 5, 9, ..., 6, 2, 7],\n",
       "        [8, 9, 7, ..., 9, 3, 9],\n",
       "        [6, 2, 9, ..., 5, 6, 9]],\n",
       "\n",
       "       [[5, 7, 4, ..., 1, 2, 5],\n",
       "        [3, 8, 1, ..., 9, 1, 4],\n",
       "        [8, 5, 9, ..., 4, 4, 5],\n",
       "        ...,\n",
       "        [4, 4, 6, ..., 5, 0, 8],\n",
       "        [3, 8, 4, ..., 9, 7, 0],\n",
       "        [9, 1, 1, ..., 8, 2, 4]]])"
      ]
     },
     "execution_count": 2,
     "metadata": {},
     "output_type": "execute_result"
    }
   ],
   "source": [
    "random.seed(99)\n",
    "Z = np.random.randint(0, 10, 1000000).reshape(100, 100, 100)\n",
    "Z"
   ]
  },
  {
   "cell_type": "code",
   "execution_count": 3,
   "metadata": {},
   "outputs": [
    {
     "name": "stdout",
     "output_type": "stream",
     "text": [
      "84.3 ns ± 23.8 ns per loop (mean ± std. dev. of 7 runs, 10 loops each)\n"
     ]
    },
    {
     "data": {
      "text/plain": [
       "array([[[ 8, 10,  3, ..., 10, 10,  2],\n",
       "        [ 3,  1,  2, ...,  2,  5,  6],\n",
       "        [ 7,  3,  9, ...,  2,  4,  2],\n",
       "        ...,\n",
       "        [ 9,  8,  6, ...,  5, 10, 10],\n",
       "        [ 4,  7,  6, ..., 10, 10,  6],\n",
       "        [ 1,  1,  3, ...,  6, 10,  1]],\n",
       "\n",
       "       [[ 4,  3,  9, ...,  9,  9,  4],\n",
       "        [ 5,  6,  7, ...,  1,  8,  6],\n",
       "        [ 5,  4,  8, ...,  8,  9,  3],\n",
       "        ...,\n",
       "        [ 8,  8,  7, ...,  9,  4,  7],\n",
       "        [ 2,  1,  7, ...,  5,  7, 10],\n",
       "        [ 2,  4,  8, ..., 10,  1,  5]],\n",
       "\n",
       "       [[ 9,  9,  4, ...,  7,  3,  5],\n",
       "        [ 5,  1,  2, ...,  6,  3,  3],\n",
       "        [ 4,  2,  9, ...,  5, 10,  9],\n",
       "        ...,\n",
       "        [ 4,  1,  2, ...,  7,  4,  1],\n",
       "        [ 6,  4,  9, ...,  1,  6,  1],\n",
       "        [ 1,  8,  9, ...,  3,  9,  7]],\n",
       "\n",
       "       ...,\n",
       "\n",
       "       [[ 3,  1,  1, ...,  1,  4,  7],\n",
       "        [ 8,  7,  7, ...,  5,  9,  7],\n",
       "        [10,  7,  8, ...,  2,  1,  8],\n",
       "        ...,\n",
       "        [ 5,  2,  9, ...,  6, 10,  7],\n",
       "        [ 8,  5, 10, ...,  6,  1,  6],\n",
       "        [ 4,  8,  1, ...,  1,  7,  3]],\n",
       "\n",
       "       [[ 8,  7,  1, ...,  7,  4,  7],\n",
       "        [ 1,  7,  2, ...,  9,  9,  3],\n",
       "        [ 8,  2,  3, ...,  6, 10,  2],\n",
       "        ...,\n",
       "        [ 8,  6, 10, ...,  7,  3,  8],\n",
       "        [ 9, 10,  8, ..., 10,  4, 10],\n",
       "        [ 7,  3, 10, ...,  6,  7, 10]],\n",
       "\n",
       "       [[ 6,  8,  5, ...,  2,  3,  6],\n",
       "        [ 4,  9,  2, ..., 10,  2,  5],\n",
       "        [ 9,  6, 10, ...,  5,  5,  6],\n",
       "        ...,\n",
       "        [ 5,  5,  7, ...,  6,  1,  9],\n",
       "        [ 4,  9,  5, ..., 10,  8,  1],\n",
       "        [10,  2,  2, ...,  9,  3,  5]]])"
      ]
     },
     "execution_count": 3,
     "metadata": {},
     "output_type": "execute_result"
    }
   ],
   "source": [
    "%timeit -n 10 a = 2\n",
    "\n",
    "Z + 1"
   ]
  },
  {
   "cell_type": "code",
   "execution_count": 4,
   "metadata": {},
   "outputs": [
    {
     "name": "stdout",
     "output_type": "stream",
     "text": [
      "184 ns ± 15.9 ns per loop (mean ± std. dev. of 7 runs, 10 loops each)\n"
     ]
    },
    {
     "data": {
      "text/plain": [
       "array([[[7, 9, 2, ..., 9, 9, 1],\n",
       "        [2, 0, 1, ..., 1, 4, 5],\n",
       "        [6, 2, 8, ..., 1, 3, 1],\n",
       "        ...,\n",
       "        [8, 7, 5, ..., 4, 9, 9],\n",
       "        [3, 6, 5, ..., 9, 9, 5],\n",
       "        [0, 0, 2, ..., 5, 9, 0]],\n",
       "\n",
       "       [[3, 2, 8, ..., 8, 8, 3],\n",
       "        [4, 5, 6, ..., 0, 7, 5],\n",
       "        [4, 3, 7, ..., 7, 8, 2],\n",
       "        ...,\n",
       "        [7, 7, 6, ..., 8, 3, 6],\n",
       "        [1, 0, 6, ..., 4, 6, 9],\n",
       "        [1, 3, 7, ..., 9, 0, 4]],\n",
       "\n",
       "       [[8, 8, 3, ..., 6, 2, 4],\n",
       "        [4, 0, 1, ..., 5, 2, 2],\n",
       "        [3, 1, 8, ..., 4, 9, 8],\n",
       "        ...,\n",
       "        [3, 0, 1, ..., 6, 3, 0],\n",
       "        [5, 3, 8, ..., 0, 5, 0],\n",
       "        [0, 7, 8, ..., 2, 8, 6]],\n",
       "\n",
       "       ...,\n",
       "\n",
       "       [[2, 0, 0, ..., 0, 3, 6],\n",
       "        [7, 6, 6, ..., 4, 8, 6],\n",
       "        [9, 6, 7, ..., 1, 0, 7],\n",
       "        ...,\n",
       "        [4, 1, 8, ..., 5, 9, 6],\n",
       "        [7, 4, 9, ..., 5, 0, 5],\n",
       "        [3, 7, 0, ..., 0, 6, 2]],\n",
       "\n",
       "       [[7, 6, 0, ..., 6, 3, 6],\n",
       "        [0, 6, 1, ..., 8, 8, 2],\n",
       "        [7, 1, 2, ..., 5, 9, 1],\n",
       "        ...,\n",
       "        [7, 5, 9, ..., 6, 2, 7],\n",
       "        [8, 9, 7, ..., 9, 3, 9],\n",
       "        [6, 2, 9, ..., 5, 6, 9]],\n",
       "\n",
       "       [[5, 7, 4, ..., 1, 2, 5],\n",
       "        [3, 8, 1, ..., 9, 1, 4],\n",
       "        [8, 5, 9, ..., 4, 4, 5],\n",
       "        ...,\n",
       "        [4, 4, 6, ..., 5, 0, 8],\n",
       "        [3, 8, 4, ..., 9, 7, 0],\n",
       "        [9, 1, 1, ..., 8, 2, 4]]])"
      ]
     },
     "execution_count": 4,
     "metadata": {},
     "output_type": "execute_result"
    }
   ],
   "source": [
    "%timeit -n 10 a = 2\n",
    "\n",
    "for row in Z:\n",
    "    for r in row:\n",
    "        for ele in r:\n",
    "            ele = ele + 1\n",
    "Z"
   ]
  },
  {
   "cell_type": "code",
   "execution_count": 5,
   "metadata": {},
   "outputs": [
    {
     "name": "stdout",
     "output_type": "stream",
     "text": [
      "52.9 ns ± 12.8 ns per loop (mean ± std. dev. of 7 runs, 10 loops each)\n"
     ]
    }
   ],
   "source": [
    "%timeit -n 10 a = 2\n",
    "# type(np.array(np.nditer(Z)))\n",
    "for d in np.array(np.nditer(Z)):\n",
    "    d += 1"
   ]
  },
  {
   "cell_type": "markdown",
   "metadata": {},
   "source": [
    "### 2. 如何從一個陣列中，找出出現頻率最高的數值與位置？\n"
   ]
  },
  {
   "cell_type": "code",
   "execution_count": 6,
   "metadata": {
    "colab": {},
    "colab_type": "code",
    "id": "e1gVI0tvsvFY"
   },
   "outputs": [
    {
     "name": "stdout",
     "output_type": "stream",
     "text": [
      "[6 6 5 5 0 9 7 8 5 1 2 6 3 2 8 7 9 1 7 2 3 1 8 5 9 2 8 6 3 0 1 8 0 9 1 1 0\n",
      " 8 6 0 5 6 4 4 0 4 8 2 8 6]\n"
     ]
    }
   ],
   "source": [
    "\n",
    "Z = np.random.randint(0,10,50)\n",
    "print(Z)\n"
   ]
  },
  {
   "cell_type": "code",
   "execution_count": 7,
   "metadata": {},
   "outputs": [
    {
     "data": {
      "text/plain": [
       "8"
      ]
     },
     "execution_count": 7,
     "metadata": {},
     "output_type": "execute_result"
    }
   ],
   "source": [
    "rint = np.argmax(np.bincount(Z))\n",
    "# bincount returns the times a number has appeared with the number as its index\n",
    "# argmax returns the index of the largest value\n",
    "rint"
   ]
  },
  {
   "cell_type": "code",
   "execution_count": 8,
   "metadata": {},
   "outputs": [
    {
     "data": {
      "text/plain": [
       "array([ 7, 14, 22, 26, 31, 37, 46, 48], dtype=int64)"
      ]
     },
     "execution_count": 8,
     "metadata": {},
     "output_type": "execute_result"
    }
   ],
   "source": [
    "# from standard answer: \"to find ALL the indexes\"\n",
    "np.where(Z == rint)[0]"
   ]
  },
  {
   "cell_type": "markdown",
   "metadata": {},
   "source": [
    "### 3. 如何利用 list(...) 實現 a.tolist() 的效果？試著用程式實作。\n"
   ]
  },
  {
   "cell_type": "code",
   "execution_count": 9,
   "metadata": {},
   "outputs": [
    {
     "name": "stdout",
     "output_type": "stream",
     "text": [
      "[2, 6, 9, 5, 2, 7]\n",
      "[2, 6, 9, 5, 2, 7]\n",
      "[[8, 5, 2, 7], [7, 7, 2, 6], [2, 5, 3, 4]]\n",
      "[array([8, 5, 2, 7]), array([7, 7, 2, 6]), array([2, 5, 3, 4])]\n",
      "[[[6, 8], [4, 0], [5, 6]], [[5, 0], [4, 7], [9, 4]]]\n",
      "[array([[6, 8],\n",
      "       [4, 0],\n",
      "       [5, 6]]), array([[5, 0],\n",
      "       [4, 7],\n",
      "       [9, 4]])]\n"
     ]
    }
   ],
   "source": [
    "a = np.random.randint(10, size=6) \n",
    "\n",
    "print(a.tolist())\n",
    "print(list(a))\n",
    "\n",
    "\n",
    "b = np.random.randint(10, size=(3,4)) \n",
    "\n",
    "print(b.tolist())\n",
    "print(list(b))\n",
    "\n",
    "\n",
    "c = np.random.randint(10, size=(2,3,2)) \n",
    "\n",
    "print(c.tolist())\n",
    "print(list(c))\n"
   ]
  },
  {
   "cell_type": "code",
   "execution_count": 10,
   "metadata": {},
   "outputs": [
    {
     "name": "stdout",
     "output_type": "stream",
     "text": [
      "[2 6 9 5 2 7]\n",
      "[[8 5 2 7]\n",
      " [7 7 2 6]\n",
      " [2 5 3 4]]\n",
      "[[[6 8]\n",
      "  [4 0]\n",
      "  [5 6]]\n",
      "\n",
      " [[5 0]\n",
      "  [4 7]\n",
      "  [9 4]]]\n"
     ]
    }
   ],
   "source": [
    "def tolist(iterable):\n",
    "    final_list = list()\n",
    "    if type(iterable) != np.ndarray:\n",
    "        return iterable\n",
    "    else:\n",
    "        for obj in iterable:\n",
    "            final_list.append(tolist(obj))\n",
    "    return iterable\n",
    "        \n",
    "print(tolist(a))\n",
    "print(tolist(b))\n",
    "print(tolist(c))"
   ]
  }
 ],
 "metadata": {
  "colab": {
   "name": "Day_023_HW.ipynb",
   "provenance": []
  },
  "kernelspec": {
   "display_name": "Python 3",
   "language": "python",
   "name": "python3"
  },
  "language_info": {
   "codemirror_mode": {
    "name": "ipython",
    "version": 3
   },
   "file_extension": ".py",
   "mimetype": "text/x-python",
   "name": "python",
   "nbconvert_exporter": "python",
   "pygments_lexer": "ipython3",
   "version": "3.8.5"
  }
 },
 "nbformat": 4,
 "nbformat_minor": 1
}
