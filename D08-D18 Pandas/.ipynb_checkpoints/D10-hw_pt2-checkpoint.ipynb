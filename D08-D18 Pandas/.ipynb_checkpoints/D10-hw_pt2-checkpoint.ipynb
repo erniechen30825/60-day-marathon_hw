{
 "cells": [
  {
   "cell_type": "markdown",
   "metadata": {
    "id": "wVq5E9P9RNOm"
   },
   "source": [
    "作業目標:<br>\n",
    "1. 熟悉索引操作\n",
    "2. 分辨合併資料方法使用時機"
   ]
  },
  {
   "cell_type": "markdown",
   "metadata": {
    "id": "_dJGNbEQR9fw"
   },
   "source": [
    "作業重點:<br>\n",
    "1. 操作索引注意有分loc、iloc\n",
    "2. 合併資料方法concat、merge、join其中有參數可以調整inner或outer"
   ]
  },
  {
   "cell_type": "markdown",
   "metadata": {
    "id": "xm-gS3tlRQFU"
   },
   "source": [
    "題目:<br>\n",
    "讀取STOCK_DAY_0050_202009.csv串聯STOCK_DAY_0050_202010.csv，並且找出open小於close的資料"
   ]
  },
  {
   "cell_type": "code",
   "execution_count": 1,
   "metadata": {
    "id": "c28Som-RRO7s"
   },
   "outputs": [],
   "source": [
    "import pandas as pd"
   ]
  },
  {
   "cell_type": "code",
   "execution_count": 4,
   "metadata": {
    "id": "Ie41WfAQwcCS"
   },
   "outputs": [],
   "source": [
    "#讀取STOCK_DAY_0050_202009.csv、STOCK_DAY_0050_202010.csv\n",
    "df1 = pd.read_csv(\"STOCK_DAY_0050_202009.csv\")\n",
    "df2 = pd.read_csv(\"STOCK_DAY_0050_202010.csv\")"
   ]
  },
  {
   "cell_type": "code",
   "execution_count": 6,
   "metadata": {},
   "outputs": [
    {
     "data": {
      "text/html": [
       "<div>\n",
       "<style scoped>\n",
       "    .dataframe tbody tr th:only-of-type {\n",
       "        vertical-align: middle;\n",
       "    }\n",
       "\n",
       "    .dataframe tbody tr th {\n",
       "        vertical-align: top;\n",
       "    }\n",
       "\n",
       "    .dataframe thead th {\n",
       "        text-align: right;\n",
       "    }\n",
       "</style>\n",
       "<table border=\"1\" class=\"dataframe\">\n",
       "  <thead>\n",
       "    <tr style=\"text-align: right;\">\n",
       "      <th></th>\n",
       "      <th>date</th>\n",
       "      <th>open</th>\n",
       "      <th>high</th>\n",
       "      <th>low</th>\n",
       "      <th>close</th>\n",
       "    </tr>\n",
       "  </thead>\n",
       "  <tbody>\n",
       "    <tr>\n",
       "      <th>0</th>\n",
       "      <td>109/09/01</td>\n",
       "      <td>102.45</td>\n",
       "      <td>103.35</td>\n",
       "      <td>101.85</td>\n",
       "      <td>103.35</td>\n",
       "    </tr>\n",
       "    <tr>\n",
       "      <th>1</th>\n",
       "      <td>109/09/02</td>\n",
       "      <td>103.65</td>\n",
       "      <td>104.05</td>\n",
       "      <td>102.30</td>\n",
       "      <td>103.00</td>\n",
       "    </tr>\n",
       "    <tr>\n",
       "      <th>2</th>\n",
       "      <td>109/09/03</td>\n",
       "      <td>103.70</td>\n",
       "      <td>104.30</td>\n",
       "      <td>103.20</td>\n",
       "      <td>103.30</td>\n",
       "    </tr>\n",
       "    <tr>\n",
       "      <th>3</th>\n",
       "      <td>109/09/04</td>\n",
       "      <td>102.00</td>\n",
       "      <td>102.70</td>\n",
       "      <td>101.90</td>\n",
       "      <td>102.55</td>\n",
       "    </tr>\n",
       "    <tr>\n",
       "      <th>4</th>\n",
       "      <td>109/09/07</td>\n",
       "      <td>102.55</td>\n",
       "      <td>103.05</td>\n",
       "      <td>101.90</td>\n",
       "      <td>102.40</td>\n",
       "    </tr>\n",
       "  </tbody>\n",
       "</table>\n",
       "</div>"
      ],
      "text/plain": [
       "        date    open    high     low   close\n",
       "0  109/09/01  102.45  103.35  101.85  103.35\n",
       "1  109/09/02  103.65  104.05  102.30  103.00\n",
       "2  109/09/03  103.70  104.30  103.20  103.30\n",
       "3  109/09/04  102.00  102.70  101.90  102.55\n",
       "4  109/09/07  102.55  103.05  101.90  102.40"
      ]
     },
     "execution_count": 6,
     "metadata": {},
     "output_type": "execute_result"
    }
   ],
   "source": [
    "df1.head()"
   ]
  },
  {
   "cell_type": "code",
   "execution_count": 7,
   "metadata": {},
   "outputs": [
    {
     "data": {
      "text/html": [
       "<div>\n",
       "<style scoped>\n",
       "    .dataframe tbody tr th:only-of-type {\n",
       "        vertical-align: middle;\n",
       "    }\n",
       "\n",
       "    .dataframe tbody tr th {\n",
       "        vertical-align: top;\n",
       "    }\n",
       "\n",
       "    .dataframe thead th {\n",
       "        text-align: right;\n",
       "    }\n",
       "</style>\n",
       "<table border=\"1\" class=\"dataframe\">\n",
       "  <thead>\n",
       "    <tr style=\"text-align: right;\">\n",
       "      <th></th>\n",
       "      <th>date</th>\n",
       "      <th>open</th>\n",
       "      <th>high</th>\n",
       "      <th>low</th>\n",
       "      <th>close</th>\n",
       "    </tr>\n",
       "  </thead>\n",
       "  <tbody>\n",
       "    <tr>\n",
       "      <th>0</th>\n",
       "      <td>109/10/05</td>\n",
       "      <td>103.45</td>\n",
       "      <td>104.05</td>\n",
       "      <td>103.00</td>\n",
       "      <td>103.05</td>\n",
       "    </tr>\n",
       "    <tr>\n",
       "      <th>1</th>\n",
       "      <td>109/10/06</td>\n",
       "      <td>104.00</td>\n",
       "      <td>104.35</td>\n",
       "      <td>103.85</td>\n",
       "      <td>104.25</td>\n",
       "    </tr>\n",
       "    <tr>\n",
       "      <th>2</th>\n",
       "      <td>109/10/07</td>\n",
       "      <td>104.00</td>\n",
       "      <td>105.00</td>\n",
       "      <td>103.50</td>\n",
       "      <td>104.80</td>\n",
       "    </tr>\n",
       "    <tr>\n",
       "      <th>3</th>\n",
       "      <td>109/10/08</td>\n",
       "      <td>105.45</td>\n",
       "      <td>106.35</td>\n",
       "      <td>105.30</td>\n",
       "      <td>106.20</td>\n",
       "    </tr>\n",
       "    <tr>\n",
       "      <th>4</th>\n",
       "      <td>109/10/12</td>\n",
       "      <td>106.70</td>\n",
       "      <td>107.70</td>\n",
       "      <td>106.70</td>\n",
       "      <td>107.05</td>\n",
       "    </tr>\n",
       "  </tbody>\n",
       "</table>\n",
       "</div>"
      ],
      "text/plain": [
       "        date    open    high     low   close\n",
       "0  109/10/05  103.45  104.05  103.00  103.05\n",
       "1  109/10/06  104.00  104.35  103.85  104.25\n",
       "2  109/10/07  104.00  105.00  103.50  104.80\n",
       "3  109/10/08  105.45  106.35  105.30  106.20\n",
       "4  109/10/12  106.70  107.70  106.70  107.05"
      ]
     },
     "execution_count": 7,
     "metadata": {},
     "output_type": "execute_result"
    }
   ],
   "source": [
    "df2.head()"
   ]
  },
  {
   "cell_type": "code",
   "execution_count": 10,
   "metadata": {
    "id": "HwABxdTXwcCT"
   },
   "outputs": [],
   "source": [
    "#串聯\n",
    "df_merge = pd.concat([df1,df2],axis = 0)"
   ]
  },
  {
   "cell_type": "code",
   "execution_count": null,
   "metadata": {
    "id": "_omQWydWwcCT",
    "scrolled": true
   },
   "outputs": [],
   "source": [
    "#找出open小於close的資料"
   ]
  },
  {
   "cell_type": "code",
   "execution_count": 12,
   "metadata": {
    "id": "mFib7gxHwcCU"
   },
   "outputs": [
    {
     "data": {
      "text/html": [
       "<div>\n",
       "<style scoped>\n",
       "    .dataframe tbody tr th:only-of-type {\n",
       "        vertical-align: middle;\n",
       "    }\n",
       "\n",
       "    .dataframe tbody tr th {\n",
       "        vertical-align: top;\n",
       "    }\n",
       "\n",
       "    .dataframe thead th {\n",
       "        text-align: right;\n",
       "    }\n",
       "</style>\n",
       "<table border=\"1\" class=\"dataframe\">\n",
       "  <thead>\n",
       "    <tr style=\"text-align: right;\">\n",
       "      <th></th>\n",
       "      <th>date</th>\n",
       "      <th>open</th>\n",
       "      <th>high</th>\n",
       "      <th>low</th>\n",
       "      <th>close</th>\n",
       "    </tr>\n",
       "  </thead>\n",
       "  <tbody>\n",
       "    <tr>\n",
       "      <th>0</th>\n",
       "      <td>109/09/01</td>\n",
       "      <td>102.45</td>\n",
       "      <td>103.35</td>\n",
       "      <td>101.85</td>\n",
       "      <td>103.35</td>\n",
       "    </tr>\n",
       "    <tr>\n",
       "      <th>3</th>\n",
       "      <td>109/09/04</td>\n",
       "      <td>102.00</td>\n",
       "      <td>102.70</td>\n",
       "      <td>101.90</td>\n",
       "      <td>102.55</td>\n",
       "    </tr>\n",
       "    <tr>\n",
       "      <th>5</th>\n",
       "      <td>109/09/08</td>\n",
       "      <td>102.75</td>\n",
       "      <td>103.10</td>\n",
       "      <td>102.45</td>\n",
       "      <td>103.00</td>\n",
       "    </tr>\n",
       "    <tr>\n",
       "      <th>6</th>\n",
       "      <td>109/09/09</td>\n",
       "      <td>101.75</td>\n",
       "      <td>102.35</td>\n",
       "      <td>101.15</td>\n",
       "      <td>102.30</td>\n",
       "    </tr>\n",
       "    <tr>\n",
       "      <th>7</th>\n",
       "      <td>109/09/10</td>\n",
       "      <td>102.80</td>\n",
       "      <td>103.35</td>\n",
       "      <td>102.60</td>\n",
       "      <td>103.20</td>\n",
       "    </tr>\n",
       "    <tr>\n",
       "      <th>8</th>\n",
       "      <td>109/09/11</td>\n",
       "      <td>103.20</td>\n",
       "      <td>103.35</td>\n",
       "      <td>102.80</td>\n",
       "      <td>103.25</td>\n",
       "    </tr>\n",
       "    <tr>\n",
       "      <th>9</th>\n",
       "      <td>109/09/14</td>\n",
       "      <td>103.50</td>\n",
       "      <td>104.55</td>\n",
       "      <td>103.25</td>\n",
       "      <td>104.55</td>\n",
       "    </tr>\n",
       "    <tr>\n",
       "      <th>10</th>\n",
       "      <td>109/09/15</td>\n",
       "      <td>104.45</td>\n",
       "      <td>105.20</td>\n",
       "      <td>104.25</td>\n",
       "      <td>104.95</td>\n",
       "    </tr>\n",
       "    <tr>\n",
       "      <th>19</th>\n",
       "      <td>109/09/28</td>\n",
       "      <td>101.35</td>\n",
       "      <td>102.30</td>\n",
       "      <td>101.00</td>\n",
       "      <td>102.30</td>\n",
       "    </tr>\n",
       "    <tr>\n",
       "      <th>21</th>\n",
       "      <td>109/09/30</td>\n",
       "      <td>102.75</td>\n",
       "      <td>103.45</td>\n",
       "      <td>102.60</td>\n",
       "      <td>103.00</td>\n",
       "    </tr>\n",
       "    <tr>\n",
       "      <th>1</th>\n",
       "      <td>109/10/06</td>\n",
       "      <td>104.00</td>\n",
       "      <td>104.35</td>\n",
       "      <td>103.85</td>\n",
       "      <td>104.25</td>\n",
       "    </tr>\n",
       "    <tr>\n",
       "      <th>2</th>\n",
       "      <td>109/10/07</td>\n",
       "      <td>104.00</td>\n",
       "      <td>105.00</td>\n",
       "      <td>103.50</td>\n",
       "      <td>104.80</td>\n",
       "    </tr>\n",
       "    <tr>\n",
       "      <th>3</th>\n",
       "      <td>109/10/08</td>\n",
       "      <td>105.45</td>\n",
       "      <td>106.35</td>\n",
       "      <td>105.30</td>\n",
       "      <td>106.20</td>\n",
       "    </tr>\n",
       "    <tr>\n",
       "      <th>4</th>\n",
       "      <td>109/10/12</td>\n",
       "      <td>106.70</td>\n",
       "      <td>107.70</td>\n",
       "      <td>106.70</td>\n",
       "      <td>107.05</td>\n",
       "    </tr>\n",
       "    <tr>\n",
       "      <th>9</th>\n",
       "      <td>109/10/19</td>\n",
       "      <td>105.65</td>\n",
       "      <td>106.60</td>\n",
       "      <td>105.60</td>\n",
       "      <td>106.60</td>\n",
       "    </tr>\n",
       "    <tr>\n",
       "      <th>12</th>\n",
       "      <td>109/10/22</td>\n",
       "      <td>105.70</td>\n",
       "      <td>106.10</td>\n",
       "      <td>105.50</td>\n",
       "      <td>106.10</td>\n",
       "    </tr>\n",
       "  </tbody>\n",
       "</table>\n",
       "</div>"
      ],
      "text/plain": [
       "         date    open    high     low   close\n",
       "0   109/09/01  102.45  103.35  101.85  103.35\n",
       "3   109/09/04  102.00  102.70  101.90  102.55\n",
       "5   109/09/08  102.75  103.10  102.45  103.00\n",
       "6   109/09/09  101.75  102.35  101.15  102.30\n",
       "7   109/09/10  102.80  103.35  102.60  103.20\n",
       "8   109/09/11  103.20  103.35  102.80  103.25\n",
       "9   109/09/14  103.50  104.55  103.25  104.55\n",
       "10  109/09/15  104.45  105.20  104.25  104.95\n",
       "19  109/09/28  101.35  102.30  101.00  102.30\n",
       "21  109/09/30  102.75  103.45  102.60  103.00\n",
       "1   109/10/06  104.00  104.35  103.85  104.25\n",
       "2   109/10/07  104.00  105.00  103.50  104.80\n",
       "3   109/10/08  105.45  106.35  105.30  106.20\n",
       "4   109/10/12  106.70  107.70  106.70  107.05\n",
       "9   109/10/19  105.65  106.60  105.60  106.60\n",
       "12  109/10/22  105.70  106.10  105.50  106.10"
      ]
     },
     "execution_count": 12,
     "metadata": {},
     "output_type": "execute_result"
    }
   ],
   "source": [
    "df_merge[df_merge.open < df_merge.close]"
   ]
  }
 ],
 "metadata": {
  "colab": {
   "collapsed_sections": [],
   "name": "pandas_select_merge_hw題目.ipynb",
   "provenance": []
  },
  "kernelspec": {
   "display_name": "Python 3",
   "language": "python",
   "name": "python3"
  },
  "language_info": {
   "codemirror_mode": {
    "name": "ipython",
    "version": 3
   },
   "file_extension": ".py",
   "mimetype": "text/x-python",
   "name": "python",
   "nbconvert_exporter": "python",
   "pygments_lexer": "ipython3",
   "version": "3.8.5"
  }
 },
 "nbformat": 4,
 "nbformat_minor": 1
}
