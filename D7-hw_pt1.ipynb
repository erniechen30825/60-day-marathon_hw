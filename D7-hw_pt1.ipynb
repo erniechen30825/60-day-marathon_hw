{
 "cells": [
  {
   "cell_type": "markdown",
   "metadata": {
    "colab_type": "text",
    "id": "P6xk2_jLsvFF"
   },
   "source": [
    "# [作業目標]\n",
    "\n",
    "1. 請比較對一個 100 x 100 * 100 的陣列，使用不同方法對每一個元素 +1 的時間比較。\n",
    "\n",
    "2. 如何從一個陣列中，找出出現頻率最高的數值與位置？\n",
    "\n",
    "3. 如何利用 list(...) 實現 a.tolist() 的效果？試著用程式實作。\n"
   ]
  },
  {
   "cell_type": "markdown",
   "metadata": {
    "colab_type": "text",
    "id": "uXGll28asvFS"
   },
   "source": [
    "# 作業 "
   ]
  },
  {
   "cell_type": "markdown",
   "metadata": {},
   "source": [
    "### 1. 請比較對一個 1000 x 100 x 100 的陣列，使用不同方法對每一個元素 +1 的時間比較。\n",
    "\n",
    "\n"
   ]
  },
  {
   "cell_type": "code",
   "execution_count": 8,
   "metadata": {},
   "outputs": [],
   "source": [
    "# 記得先 Import 正確的套件\n",
    "\n",
    "import numpy as np\n",
    "import random"
   ]
  },
  {
   "cell_type": "code",
   "execution_count": 12,
   "metadata": {
    "colab": {},
    "colab_type": "code",
    "id": "5QrYoyNWsvFS"
   },
   "outputs": [
    {
     "data": {
      "text/plain": [
       "array([[[1, 2, 9, ..., 2, 1, 7],\n",
       "        [5, 5, 3, ..., 3, 8, 2],\n",
       "        [4, 3, 2, ..., 7, 8, 6],\n",
       "        ...,\n",
       "        [3, 7, 3, ..., 9, 5, 8],\n",
       "        [5, 5, 2, ..., 3, 2, 9],\n",
       "        [4, 0, 7, ..., 8, 7, 7]],\n",
       "\n",
       "       [[8, 7, 8, ..., 5, 1, 2],\n",
       "        [4, 8, 0, ..., 8, 6, 5],\n",
       "        [9, 2, 6, ..., 0, 3, 7],\n",
       "        ...,\n",
       "        [5, 1, 9, ..., 9, 8, 0],\n",
       "        [3, 8, 7, ..., 7, 9, 0],\n",
       "        [7, 3, 3, ..., 4, 5, 2]],\n",
       "\n",
       "       [[1, 7, 2, ..., 6, 1, 9],\n",
       "        [6, 5, 6, ..., 9, 5, 4],\n",
       "        [4, 5, 6, ..., 3, 0, 7],\n",
       "        ...,\n",
       "        [1, 0, 5, ..., 1, 3, 2],\n",
       "        [1, 2, 2, ..., 0, 7, 2],\n",
       "        [0, 2, 9, ..., 0, 3, 5]],\n",
       "\n",
       "       ...,\n",
       "\n",
       "       [[5, 1, 0, ..., 8, 2, 0],\n",
       "        [6, 4, 8, ..., 4, 6, 0],\n",
       "        [0, 4, 3, ..., 6, 2, 8],\n",
       "        ...,\n",
       "        [3, 3, 7, ..., 6, 3, 1],\n",
       "        [1, 7, 6, ..., 2, 7, 3],\n",
       "        [1, 0, 1, ..., 9, 0, 3]],\n",
       "\n",
       "       [[1, 6, 9, ..., 3, 5, 5],\n",
       "        [2, 0, 4, ..., 2, 9, 9],\n",
       "        [1, 3, 4, ..., 1, 5, 4],\n",
       "        ...,\n",
       "        [2, 0, 8, ..., 9, 5, 2],\n",
       "        [9, 4, 9, ..., 9, 4, 7],\n",
       "        [0, 9, 2, ..., 3, 8, 0]],\n",
       "\n",
       "       [[8, 8, 1, ..., 8, 4, 3],\n",
       "        [4, 3, 9, ..., 5, 7, 4],\n",
       "        [2, 2, 5, ..., 8, 2, 8],\n",
       "        ...,\n",
       "        [3, 2, 3, ..., 6, 7, 3],\n",
       "        [7, 0, 8, ..., 2, 2, 0],\n",
       "        [9, 5, 5, ..., 8, 8, 9]]])"
      ]
     },
     "execution_count": 12,
     "metadata": {},
     "output_type": "execute_result"
    }
   ],
   "source": [
    "random.seed(99)\n",
    "Z = np.random.randint(0, 10, 1000000).reshape(100, 100, 100)\n",
    "Z"
   ]
  },
  {
   "cell_type": "code",
   "execution_count": 13,
   "metadata": {},
   "outputs": [
    {
     "name": "stdout",
     "output_type": "stream",
     "text": [
      "78.6 ns ± 21.7 ns per loop (mean ± std. dev. of 7 runs, 10 loops each)\n"
     ]
    },
    {
     "data": {
      "text/plain": [
       "array([[[ 2,  3, 10, ...,  3,  2,  8],\n",
       "        [ 6,  6,  4, ...,  4,  9,  3],\n",
       "        [ 5,  4,  3, ...,  8,  9,  7],\n",
       "        ...,\n",
       "        [ 4,  8,  4, ..., 10,  6,  9],\n",
       "        [ 6,  6,  3, ...,  4,  3, 10],\n",
       "        [ 5,  1,  8, ...,  9,  8,  8]],\n",
       "\n",
       "       [[ 9,  8,  9, ...,  6,  2,  3],\n",
       "        [ 5,  9,  1, ...,  9,  7,  6],\n",
       "        [10,  3,  7, ...,  1,  4,  8],\n",
       "        ...,\n",
       "        [ 6,  2, 10, ..., 10,  9,  1],\n",
       "        [ 4,  9,  8, ...,  8, 10,  1],\n",
       "        [ 8,  4,  4, ...,  5,  6,  3]],\n",
       "\n",
       "       [[ 2,  8,  3, ...,  7,  2, 10],\n",
       "        [ 7,  6,  7, ..., 10,  6,  5],\n",
       "        [ 5,  6,  7, ...,  4,  1,  8],\n",
       "        ...,\n",
       "        [ 2,  1,  6, ...,  2,  4,  3],\n",
       "        [ 2,  3,  3, ...,  1,  8,  3],\n",
       "        [ 1,  3, 10, ...,  1,  4,  6]],\n",
       "\n",
       "       ...,\n",
       "\n",
       "       [[ 6,  2,  1, ...,  9,  3,  1],\n",
       "        [ 7,  5,  9, ...,  5,  7,  1],\n",
       "        [ 1,  5,  4, ...,  7,  3,  9],\n",
       "        ...,\n",
       "        [ 4,  4,  8, ...,  7,  4,  2],\n",
       "        [ 2,  8,  7, ...,  3,  8,  4],\n",
       "        [ 2,  1,  2, ..., 10,  1,  4]],\n",
       "\n",
       "       [[ 2,  7, 10, ...,  4,  6,  6],\n",
       "        [ 3,  1,  5, ...,  3, 10, 10],\n",
       "        [ 2,  4,  5, ...,  2,  6,  5],\n",
       "        ...,\n",
       "        [ 3,  1,  9, ..., 10,  6,  3],\n",
       "        [10,  5, 10, ..., 10,  5,  8],\n",
       "        [ 1, 10,  3, ...,  4,  9,  1]],\n",
       "\n",
       "       [[ 9,  9,  2, ...,  9,  5,  4],\n",
       "        [ 5,  4, 10, ...,  6,  8,  5],\n",
       "        [ 3,  3,  6, ...,  9,  3,  9],\n",
       "        ...,\n",
       "        [ 4,  3,  4, ...,  7,  8,  4],\n",
       "        [ 8,  1,  9, ...,  3,  3,  1],\n",
       "        [10,  6,  6, ...,  9,  9, 10]]])"
      ]
     },
     "execution_count": 13,
     "metadata": {},
     "output_type": "execute_result"
    }
   ],
   "source": [
    "%timeit -n 10 a = 2\n",
    "\n",
    "Z + 1"
   ]
  },
  {
   "cell_type": "code",
   "execution_count": 17,
   "metadata": {},
   "outputs": [
    {
     "name": "stdout",
     "output_type": "stream",
     "text": [
      "161 ns ± 8.33 ns per loop (mean ± std. dev. of 7 runs, 10 loops each)\n"
     ]
    },
    {
     "data": {
      "text/plain": [
       "array([[[1, 2, 9, ..., 2, 1, 7],\n",
       "        [5, 5, 3, ..., 3, 8, 2],\n",
       "        [4, 3, 2, ..., 7, 8, 6],\n",
       "        ...,\n",
       "        [3, 7, 3, ..., 9, 5, 8],\n",
       "        [5, 5, 2, ..., 3, 2, 9],\n",
       "        [4, 0, 7, ..., 8, 7, 7]],\n",
       "\n",
       "       [[8, 7, 8, ..., 5, 1, 2],\n",
       "        [4, 8, 0, ..., 8, 6, 5],\n",
       "        [9, 2, 6, ..., 0, 3, 7],\n",
       "        ...,\n",
       "        [5, 1, 9, ..., 9, 8, 0],\n",
       "        [3, 8, 7, ..., 7, 9, 0],\n",
       "        [7, 3, 3, ..., 4, 5, 2]],\n",
       "\n",
       "       [[1, 7, 2, ..., 6, 1, 9],\n",
       "        [6, 5, 6, ..., 9, 5, 4],\n",
       "        [4, 5, 6, ..., 3, 0, 7],\n",
       "        ...,\n",
       "        [1, 0, 5, ..., 1, 3, 2],\n",
       "        [1, 2, 2, ..., 0, 7, 2],\n",
       "        [0, 2, 9, ..., 0, 3, 5]],\n",
       "\n",
       "       ...,\n",
       "\n",
       "       [[5, 1, 0, ..., 8, 2, 0],\n",
       "        [6, 4, 8, ..., 4, 6, 0],\n",
       "        [0, 4, 3, ..., 6, 2, 8],\n",
       "        ...,\n",
       "        [3, 3, 7, ..., 6, 3, 1],\n",
       "        [1, 7, 6, ..., 2, 7, 3],\n",
       "        [1, 0, 1, ..., 9, 0, 3]],\n",
       "\n",
       "       [[1, 6, 9, ..., 3, 5, 5],\n",
       "        [2, 0, 4, ..., 2, 9, 9],\n",
       "        [1, 3, 4, ..., 1, 5, 4],\n",
       "        ...,\n",
       "        [2, 0, 8, ..., 9, 5, 2],\n",
       "        [9, 4, 9, ..., 9, 4, 7],\n",
       "        [0, 9, 2, ..., 3, 8, 0]],\n",
       "\n",
       "       [[8, 8, 1, ..., 8, 4, 3],\n",
       "        [4, 3, 9, ..., 5, 7, 4],\n",
       "        [2, 2, 5, ..., 8, 2, 8],\n",
       "        ...,\n",
       "        [3, 2, 3, ..., 6, 7, 3],\n",
       "        [7, 0, 8, ..., 2, 2, 0],\n",
       "        [9, 5, 5, ..., 8, 8, 9]]])"
      ]
     },
     "execution_count": 17,
     "metadata": {},
     "output_type": "execute_result"
    }
   ],
   "source": [
    "%timeit -n 10 a = 2\n",
    "\n",
    "for row in Z:\n",
    "    for r in row:\n",
    "        for ele in r:\n",
    "            ele = ele + 1\n",
    "Z"
   ]
  },
  {
   "cell_type": "code",
   "execution_count": 24,
   "metadata": {},
   "outputs": [
    {
     "name": "stdout",
     "output_type": "stream",
     "text": [
      "81.4 ns ± 36.4 ns per loop (mean ± std. dev. of 7 runs, 10 loops each)\n"
     ]
    }
   ],
   "source": [
    "%timeit -n 10 a = 2\n",
    "# type(np.array(np.nditer(Z)))\n",
    "for d in np.array(np.nditer(Z)):\n",
    "    d += 1"
   ]
  },
  {
   "cell_type": "markdown",
   "metadata": {},
   "source": [
    "### 2. 如何從一個陣列中，找出出現頻率最高的數值與位置？\n"
   ]
  },
  {
   "cell_type": "code",
   "execution_count": 29,
   "metadata": {
    "colab": {},
    "colab_type": "code",
    "id": "e1gVI0tvsvFY"
   },
   "outputs": [
    {
     "name": "stdout",
     "output_type": "stream",
     "text": [
      "[3 0 0 2 9 8 7 1 1 6 2 1 0 1 3 2 4 4 3 2 2 5 5 5 6 8 8 5 4 8 7 2 6 9 5 6 8\n",
      " 6 8 0 1 8 2 5 8 5 2 6 3 8]\n"
     ]
    }
   ],
   "source": [
    "\n",
    "Z = np.random.randint(0,10,50)\n",
    "print(Z)\n"
   ]
  },
  {
   "cell_type": "code",
   "execution_count": 44,
   "metadata": {},
   "outputs": [
    {
     "data": {
      "text/plain": [
       "8"
      ]
     },
     "execution_count": 44,
     "metadata": {},
     "output_type": "execute_result"
    }
   ],
   "source": [
    "np.argmax(np.bincount(Z))\n",
    "# bincount returns the times a number has appeared with the number as its index\n",
    "# argmax returns the index of the largest value"
   ]
  },
  {
   "cell_type": "markdown",
   "metadata": {},
   "source": [
    "### 3. 如何利用 list(...) 實現 a.tolist() 的效果？試著用程式實作。\n"
   ]
  },
  {
   "cell_type": "code",
   "execution_count": 45,
   "metadata": {},
   "outputs": [
    {
     "name": "stdout",
     "output_type": "stream",
     "text": [
      "[9, 6, 8, 6, 7, 5]\n",
      "[9, 6, 8, 6, 7, 5]\n",
      "[[0, 6, 1, 9], [3, 7, 9, 9], [9, 9, 8, 9]]\n",
      "[array([0, 6, 1, 9]), array([3, 7, 9, 9]), array([9, 9, 8, 9])]\n",
      "[[[6, 3], [7, 4], [5, 0]], [[5, 6], [3, 8], [9, 0]]]\n",
      "[array([[6, 3],\n",
      "       [7, 4],\n",
      "       [5, 0]]), array([[5, 6],\n",
      "       [3, 8],\n",
      "       [9, 0]])]\n"
     ]
    }
   ],
   "source": [
    "a = np.random.randint(10, size=6) \n",
    "\n",
    "print(a.tolist())\n",
    "print(list(a))\n",
    "\n",
    "\n",
    "b = np.random.randint(10, size=(3,4)) \n",
    "\n",
    "print(b.tolist())\n",
    "print(list(b))\n",
    "\n",
    "\n",
    "c = np.random.randint(10, size=(2,3,2)) \n",
    "\n",
    "print(c.tolist())\n",
    "print(list(c))\n"
   ]
  },
  {
   "cell_type": "code",
   "execution_count": 46,
   "metadata": {},
   "outputs": [
    {
     "name": "stdout",
     "output_type": "stream",
     "text": [
      "[9 6 8 6 7 5]\n",
      "[[0 6 1 9]\n",
      " [3 7 9 9]\n",
      " [9 9 8 9]]\n",
      "[[[6 3]\n",
      "  [7 4]\n",
      "  [5 0]]\n",
      "\n",
      " [[5 6]\n",
      "  [3 8]\n",
      "  [9 0]]]\n"
     ]
    }
   ],
   "source": [
    "def tolist(iterable):\n",
    "    final_list = list()\n",
    "    if type(iterable) != np.ndarray:\n",
    "        return iterable\n",
    "    else:\n",
    "        for obj in iterable:\n",
    "            final_list.append(tolist(obj))\n",
    "    return iterable\n",
    "        \n",
    "print(tolist(a))\n",
    "print(tolist(b))\n",
    "print(tolist(c))"
   ]
  }
 ],
 "metadata": {
  "colab": {
   "name": "Day_023_HW.ipynb",
   "provenance": []
  },
  "kernelspec": {
   "display_name": "Python 3",
   "language": "python",
   "name": "python3"
  },
  "language_info": {
   "codemirror_mode": {
    "name": "ipython",
    "version": 3
   },
   "file_extension": ".py",
   "mimetype": "text/x-python",
   "name": "python",
   "nbconvert_exporter": "python",
   "pygments_lexer": "ipython3",
   "version": "3.8.5"
  }
 },
 "nbformat": 4,
 "nbformat_minor": 1
}
